{
  "nbformat": 4,
  "nbformat_minor": 0,
  "metadata": {
    "colab": {
      "name": "mnistDigitClassifier.ipynb",
      "provenance": [],
      "collapsed_sections": [],
      "include_colab_link": true
    },
    "kernelspec": {
      "name": "python3",
      "display_name": "Python 3"
    },
    "accelerator": "GPU"
  },
  "cells": [
    {
      "cell_type": "markdown",
      "metadata": {
        "id": "view-in-github",
        "colab_type": "text"
      },
      "source": [
        "<a href=\"https://colab.research.google.com/github/HDWilliams/mnistDigitClassifier/blob/master/mnistDigitClassifier.ipynb\" target=\"_parent\"><img src=\"https://colab.research.google.com/assets/colab-badge.svg\" alt=\"Open In Colab\"/></a>"
      ]
    },
    {
      "cell_type": "code",
      "metadata": {
        "id": "rwX6iv81WtYp",
        "colab_type": "code",
        "colab": {}
      },
      "source": [
        "#import necessary libraries\n",
        "import torch\n",
        "import numpy as np\n",
        "import matplotlib.pyplot as plt\n",
        "from torchvision import transforms, datasets\n"
      ],
      "execution_count": 0,
      "outputs": []
    },
    {
      "cell_type": "code",
      "metadata": {
        "id": "0EMiafPAXAmG",
        "colab_type": "code",
        "colab": {}
      },
      "source": [
        "#set up data transforms and import data\n",
        "transform = transforms.Compose([transforms.ToTensor()])\n",
        "\n",
        "#set up train and test dataloaders\n",
        "trainset = datasets.MNIST('../mnist_data', download=True, train=True, transform=transform)\n",
        "train_dataloader = torch.utils.data.DataLoader(trainset, batch_size=16, shuffle=True)\n",
        "\n",
        "testset = datasets.MNIST('../mnist_data', download=True, train=False, transform=transform)\n",
        "test_dataloader = torch.utils.data.DataLoader(testset, batch_size=16, shuffle = True)\n"
      ],
      "execution_count": 0,
      "outputs": []
    },
    {
      "cell_type": "code",
      "metadata": {
        "id": "ENfDFcE-XWAU",
        "colab_type": "code",
        "colab": {
          "base_uri": "https://localhost:8080/",
          "height": 106
        },
        "outputId": "e68197bc-b7de-4967-ef33-5e78582ad77d"
      },
      "source": [
        "#visualize the images\n",
        "#TODO: Fix display issues\n",
        "def show_img(num):\n",
        "  w=10\n",
        "  h=10\n",
        "  fig=plt.figure(figsize=(num, 1))\n",
        "  columns = 28\n",
        "  rows = 28\n",
        "  for image, label in train_dataloader:\n",
        "    for i in range(1, columns*rows +1):\n",
        "      fig.add_subplot(rows, columns, i)\n",
        "      plt.imshow(image.view(-1, 28))\n",
        "    break\n",
        "  plt.show()\n",
        "show_img(4)"
      ],
      "execution_count": 3,
      "outputs": [
        {
          "output_type": "display_data",
          "data": {
            "image/png": "[encoded data removed]",
            "text/plain": [
              "<Figure size 288x72 with 784 Axes>"
            ]
          },
          "metadata": {
            "tags": []
          }
        }
      ]
    },
    {
      "cell_type": "code",
      "metadata": {
        "id": "6a4GU0xhl9zA",
        "colab_type": "code",
        "outputId": "5b6a95ab-7db4-414d-8c52-ef2b4327ae22",
        "colab": {
          "base_uri": "https://localhost:8080/",
          "height": 34
        }
      },
      "source": [
        "device = torch.device(\"cuda:0\" if torch.cuda.is_available() else \"cpu\")\n",
        "print(device)"
      ],
      "execution_count": 4,
      "outputs": [
        {
          "output_type": "stream",
          "text": [
            "cuda:0\n"
          ],
          "name": "stdout"
        }
      ]
    },
    {
      "cell_type": "code",
      "metadata": {
        "id": "YJhOB6IsXvmk",
        "colab_type": "code",
        "colab": {}
      },
      "source": [
        "#set up a Sequential model input 28*28, ouput 10 catagories\n",
        "import torch.nn.functional as F\n",
        "import torch.nn as nn\n",
        "\n",
        "model = nn.Sequential(nn.Linear(28*28, 128), \n",
        "                      nn.ReLU(), \n",
        "                      nn.Linear(128, 64), \n",
        "                      nn.ReLU(), \n",
        "                      nn.Linear(64, 10), \n",
        "                      nn.LogSoftmax(dim=1)).to(device)\n",
        "\n",
        "#loss criterion\n",
        "criterion = nn.NLLLoss()\n",
        "#optimizer\n",
        "lr=.01\n",
        "optimizer = torch.optim.Adam(model.parameters(), lr=lr)\n"
      ],
      "execution_count": 0,
      "outputs": []
    },
    {
      "cell_type": "code",
      "metadata": {
        "id": "LbQg6aaroYFl",
        "colab_type": "code",
        "colab": {}
      },
      "source": [
        ""
      ],
      "execution_count": 0,
      "outputs": []
    },
    {
      "cell_type": "code",
      "metadata": {
        "id": "NkGZCV9oYpha",
        "colab_type": "code",
        "outputId": "cd5dacee-811a-4f14-9d06-6ece6d60a7f7",
        "colab": {
          "base_uri": "https://localhost:8080/",
          "height": 357
        }
      },
      "source": [
        "#set up train test code\n",
        "epochs = 10\n",
        "\n",
        "for i in range(epochs):\n",
        "  running_loss = 0\n",
        "  for image, label in train_dataloader:\n",
        "    \n",
        "    #zero grads for each pass through model\n",
        "    optimizer.zero_grad()\n",
        "    \n",
        "    #resize images and send images and labels to GPU\n",
        "    image = image.view(image.shape[0], -1)\n",
        "    image, label = image.to(device), label.to(device)\n",
        "    \n",
        "    #pass each batch through the model\n",
        "    output = model(image)\n",
        "    \n",
        "    #calculate loss, back propogate, gradient descent\n",
        "    loss = criterion(output, label)\n",
        "    loss.backward()\n",
        "    optimizer.step()\n",
        "    \n",
        "    #add up loss then print after each epoch\n",
        "    running_loss += loss.item()\n",
        "  print('Epoch: ', i, 'Loss: ', running_loss/len(train_dataloader))\n",
        "  \n",
        "  #set model to eval with no_grad tracking\n",
        "  accuracy = 0\n",
        "  with torch.no_grad():\n",
        "    model.eval()\n",
        "    for images, labels in test_dataloader:\n",
        "      images = images.view(images.shape[0], -1)\n",
        "      \n",
        "      images, labels = images.to(device), labels.to(device)\n",
        "      \n",
        "      #model output is log_softmax must do exp to get actual value\n",
        "      ps = torch.exp(model(images))\n",
        "      \n",
        "      #get top class\n",
        "      topk, top_class = ps.topk(1, dim=1)\n",
        "      \n",
        "      #print accuracy\n",
        "      results = top_class == labels.view(top_class.shape[0], 1)\n",
        "      accuracy += torch.mean(results.type(torch.FloatTensor))\n",
        "  print('Accuracy: ', (accuracy.item()/len(test_dataloader))*100, '%')\n",
        "  model.train()\n",
        "  \n",
        "    "
      ],
      "execution_count": 10,
      "outputs": [
        {
          "output_type": "stream",
          "text": [
            "Epoch:  0 Loss:  0.16430920539038876\n",
            "Accuracy:  96.02000000000001 %\n",
            "Epoch:  1 Loss:  0.1471957941090067\n",
            "Accuracy:  95.54 %\n",
            "Epoch:  2 Loss:  0.1519453218307967\n",
            "Accuracy:  95.41 %\n",
            "Epoch:  3 Loss:  0.154054517046238\n",
            "Accuracy:  95.24000000000001 %\n",
            "Epoch:  4 Loss:  0.14453279988610496\n",
            "Accuracy:  95.74000000000001 %\n",
            "Epoch:  5 Loss:  0.15225821963272368\n",
            "Accuracy:  95.19999999999999 %\n",
            "Epoch:  6 Loss:  0.15330865694146292\n",
            "Accuracy:  95.77 %\n",
            "Epoch:  7 Loss:  0.15115810940964147\n",
            "Accuracy:  95.87 %\n",
            "Epoch:  8 Loss:  0.14904419819082057\n",
            "Accuracy:  95.83 %\n",
            "Epoch:  9 Loss:  0.1589305373805808\n",
            "Accuracy:  95.47 %\n"
          ],
          "name": "stdout"
        }
      ]
    }
  ]
}